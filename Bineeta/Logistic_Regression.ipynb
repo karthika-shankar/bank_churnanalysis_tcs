{
  "nbformat": 4,
  "nbformat_minor": 0,
  "metadata": {
    "colab": {
      "provenance": [],
      "authorship_tag": "ABX9TyNzbckAdUgkK5Cl1pxayOnW",
      "include_colab_link": true
    },
    "kernelspec": {
      "name": "python3",
      "display_name": "Python 3"
    },
    "language_info": {
      "name": "python"
    }
  },
  "cells": [
    {
      "cell_type": "markdown",
      "metadata": {
        "id": "view-in-github",
        "colab_type": "text"
      },
      "source": [
        "<a href=\"https://colab.research.google.com/github/karthika-shankar/bank_churnanalysis_tcs/blob/main/Bineeta/Logistic_Regression.ipynb\" target=\"_parent\"><img src=\"https://colab.research.google.com/assets/colab-badge.svg\" alt=\"Open In Colab\"/></a>"
      ]
    },
    {
      "cell_type": "code",
      "source": [
        "import pandas as pd\n",
        "import numpy as np\n",
        "import plotly.express as px\n",
        "import matplotlib\n",
        "import matplotlib.pyplot as plt\n",
        "import seaborn as sns\n",
        "%matplotlib inline\n",
        "from sklearn.model_selection import train_test_split\n",
        "from sklearn.preprocessing import StandardScaler\n",
        "from sklearn.linear_model import LogisticRegression\n",
        "from sklearn.preprocessing import OneHotEncoder\n",
        "from sklearn.metrics import confusion_matrix,classification_report,accuracy_score\n",
        "from sklearn.metrics import roc_curve, roc_auc_score"
      ],
      "metadata": {
        "id": "IedOVHtIM-NL"
      },
      "execution_count": null,
      "outputs": []
    },
    {
      "cell_type": "code",
      "source": [
        "df=pd.read_csv('with_sentiment.csv')\n"
      ],
      "metadata": {
        "id": "MknUhtEe5YoL"
      },
      "execution_count": null,
      "outputs": []
    },
    {
      "cell_type": "code",
      "source": [
        "df.drop(['CustomerID', 'Name','Emoji_Sentiment', 'Text_Sentiment','Account_Open_Date', 'Last_Transaction_Date','Customer_Review'],axis=1,inplace=True)"
      ],
      "metadata": {
        "id": "15OBoZCYah_l"
      },
      "execution_count": null,
      "outputs": []
    },
    {
      "cell_type": "code",
      "source": [
        "numerical_columns=list(df.select_dtypes(include=['int64','float64']))\n",
        "categorical_columns=df.select_dtypes(include=['object'])\n",
        "list_of_categorical_columns=list(categorical_columns)\n",
        "print(list_of_categorical_columns)\n",
        "list_of_numerical_columns=[col for col in numerical_columns if col not in 'Exited']\n",
        "print(list_of_numerical_columns)"
      ],
      "metadata": {
        "colab": {
          "base_uri": "https://localhost:8080/"
        },
        "id": "69dD3cmJ3BNm",
        "outputId": "a34c8c8d-2af6-4aa6-fb75-23f28db79151"
      },
      "execution_count": null,
      "outputs": [
        {
          "output_type": "stream",
          "name": "stdout",
          "text": [
            "['Gender', 'Geography', 'Native_Place', 'Marital_Status', 'Account_Type', 'Loan_Status', 'Branch_Code']\n",
            "['Age', 'Tenure', 'Balance', 'NumOfProducts', 'HasCrCard', 'IsActiveMember', 'EstimatedSalary', 'Monthly_Income', 'CreditScore', 'EMI_Amount', 'Combined_Sentiment']\n"
          ]
        }
      ]
    },
    {
      "cell_type": "markdown",
      "source": [
        "Splitting into train and test data"
      ],
      "metadata": {
        "id": "rfwa6nKYFzCp"
      }
    },
    {
      "cell_type": "code",
      "source": [
        "X_train,X_test,y_train,y_test=train_test_split(df,df['Exited'],test_size=0.2,random_state=42)\n",
        "X_train.drop('Exited',axis=1,inplace=True)\n",
        "X_test.drop('Exited',axis=1,inplace=True)\n",
        "print(X_train.shape)\n",
        "print(y_train.shape)\n",
        "print(X_test.shape)\n",
        "print(y_test.shape)"
      ],
      "metadata": {
        "colab": {
          "base_uri": "https://localhost:8080/"
        },
        "id": "aVYBXP6YDnGQ",
        "outputId": "33811cbd-95c9-4960-d24f-7395bc435c5e"
      },
      "execution_count": null,
      "outputs": [
        {
          "output_type": "stream",
          "name": "stdout",
          "text": [
            "(80000, 18)\n",
            "(80000,)\n",
            "(20000, 18)\n",
            "(20000,)\n"
          ]
        }
      ]
    },
    {
      "cell_type": "markdown",
      "source": [
        "Normalising Numerical Values"
      ],
      "metadata": {
        "id": "dfjy58sKUfh8"
      }
    },
    {
      "cell_type": "code",
      "source": [
        "sc=StandardScaler()\n",
        "scaled=sc.fit_transform(X_train[list_of_numerical_columns])\n",
        "scale_train=pd.DataFrame(scaled,columns=list_of_numerical_columns,index=X_train.index)\n",
        "scale_test=pd.DataFrame(sc.transform(X_test[list_of_numerical_columns]),index=X_test.index,columns=list_of_numerical_columns)\n",
        "scale_train.head()"
      ],
      "metadata": {
        "id": "ieC1v8YOI1Lu",
        "colab": {
          "base_uri": "https://localhost:8080/",
          "height": 226
        },
        "outputId": "eb566dc2-fe24-4382-94c8-c968008aa29e"
      },
      "execution_count": null,
      "outputs": [
        {
          "output_type": "execute_result",
          "data": {
            "text/plain": [
              "            Age    Tenure   Balance  NumOfProducts  HasCrCard  IsActiveMember  \\\n",
              "75220 -0.741169 -0.658077 -0.604524      -1.345562   0.995087       -0.994366   \n",
              "48955  1.194749 -0.161991  1.209569      -1.345562  -1.004937        1.005666   \n",
              "44966 -1.148730  0.995544 -0.802211      -0.451226  -1.004937       -0.994366   \n",
              "13568 -1.352511 -1.650251 -0.501125       0.443110   0.995087        1.005666   \n",
              "92727 -0.741169  0.168734  1.171901       0.443110   0.995087       -0.994366   \n",
              "\n",
              "       EstimatedSalary  Monthly_Income  CreditScore  EMI_Amount  \\\n",
              "75220        -0.690413       -0.690413    -1.582920   -0.666568   \n",
              "48955         0.294083        0.294083    -0.398863   -0.202013   \n",
              "44966         0.459807        0.459807     1.377224   -1.226886   \n",
              "13568        -1.267915       -1.267915    -1.036874   -1.226886   \n",
              "92727         0.732228        0.732228    -1.410484    1.062942   \n",
              "\n",
              "       Combined_Sentiment  \n",
              "75220           -1.445443  \n",
              "48955            0.624162  \n",
              "44966            0.447048  \n",
              "13568            0.624162  \n",
              "92727            1.167533  "
            ],
            "text/html": [
              "\n",
              "  <div id=\"df-4bbaa81d-7c70-45e6-a1e3-a28dfd7cca96\" class=\"colab-df-container\">\n",
              "    <div>\n",
              "<style scoped>\n",
              "    .dataframe tbody tr th:only-of-type {\n",
              "        vertical-align: middle;\n",
              "    }\n",
              "\n",
              "    .dataframe tbody tr th {\n",
              "        vertical-align: top;\n",
              "    }\n",
              "\n",
              "    .dataframe thead th {\n",
              "        text-align: right;\n",
              "    }\n",
              "</style>\n",
              "<table border=\"1\" class=\"dataframe\">\n",
              "  <thead>\n",
              "    <tr style=\"text-align: right;\">\n",
              "      <th></th>\n",
              "      <th>Age</th>\n",
              "      <th>Tenure</th>\n",
              "      <th>Balance</th>\n",
              "      <th>NumOfProducts</th>\n",
              "      <th>HasCrCard</th>\n",
              "      <th>IsActiveMember</th>\n",
              "      <th>EstimatedSalary</th>\n",
              "      <th>Monthly_Income</th>\n",
              "      <th>CreditScore</th>\n",
              "      <th>EMI_Amount</th>\n",
              "      <th>Combined_Sentiment</th>\n",
              "    </tr>\n",
              "  </thead>\n",
              "  <tbody>\n",
              "    <tr>\n",
              "      <th>75220</th>\n",
              "      <td>-0.741169</td>\n",
              "      <td>-0.658077</td>\n",
              "      <td>-0.604524</td>\n",
              "      <td>-1.345562</td>\n",
              "      <td>0.995087</td>\n",
              "      <td>-0.994366</td>\n",
              "      <td>-0.690413</td>\n",
              "      <td>-0.690413</td>\n",
              "      <td>-1.582920</td>\n",
              "      <td>-0.666568</td>\n",
              "      <td>-1.445443</td>\n",
              "    </tr>\n",
              "    <tr>\n",
              "      <th>48955</th>\n",
              "      <td>1.194749</td>\n",
              "      <td>-0.161991</td>\n",
              "      <td>1.209569</td>\n",
              "      <td>-1.345562</td>\n",
              "      <td>-1.004937</td>\n",
              "      <td>1.005666</td>\n",
              "      <td>0.294083</td>\n",
              "      <td>0.294083</td>\n",
              "      <td>-0.398863</td>\n",
              "      <td>-0.202013</td>\n",
              "      <td>0.624162</td>\n",
              "    </tr>\n",
              "    <tr>\n",
              "      <th>44966</th>\n",
              "      <td>-1.148730</td>\n",
              "      <td>0.995544</td>\n",
              "      <td>-0.802211</td>\n",
              "      <td>-0.451226</td>\n",
              "      <td>-1.004937</td>\n",
              "      <td>-0.994366</td>\n",
              "      <td>0.459807</td>\n",
              "      <td>0.459807</td>\n",
              "      <td>1.377224</td>\n",
              "      <td>-1.226886</td>\n",
              "      <td>0.447048</td>\n",
              "    </tr>\n",
              "    <tr>\n",
              "      <th>13568</th>\n",
              "      <td>-1.352511</td>\n",
              "      <td>-1.650251</td>\n",
              "      <td>-0.501125</td>\n",
              "      <td>0.443110</td>\n",
              "      <td>0.995087</td>\n",
              "      <td>1.005666</td>\n",
              "      <td>-1.267915</td>\n",
              "      <td>-1.267915</td>\n",
              "      <td>-1.036874</td>\n",
              "      <td>-1.226886</td>\n",
              "      <td>0.624162</td>\n",
              "    </tr>\n",
              "    <tr>\n",
              "      <th>92727</th>\n",
              "      <td>-0.741169</td>\n",
              "      <td>0.168734</td>\n",
              "      <td>1.171901</td>\n",
              "      <td>0.443110</td>\n",
              "      <td>0.995087</td>\n",
              "      <td>-0.994366</td>\n",
              "      <td>0.732228</td>\n",
              "      <td>0.732228</td>\n",
              "      <td>-1.410484</td>\n",
              "      <td>1.062942</td>\n",
              "      <td>1.167533</td>\n",
              "    </tr>\n",
              "  </tbody>\n",
              "</table>\n",
              "</div>\n",
              "    <div class=\"colab-df-buttons\">\n",
              "\n",
              "  <div class=\"colab-df-container\">\n",
              "    <button class=\"colab-df-convert\" onclick=\"convertToInteractive('df-4bbaa81d-7c70-45e6-a1e3-a28dfd7cca96')\"\n",
              "            title=\"Convert this dataframe to an interactive table.\"\n",
              "            style=\"display:none;\">\n",
              "\n",
              "  <svg xmlns=\"http://www.w3.org/2000/svg\" height=\"24px\" viewBox=\"0 -960 960 960\">\n",
              "    <path d=\"M120-120v-720h720v720H120Zm60-500h600v-160H180v160Zm220 220h160v-160H400v160Zm0 220h160v-160H400v160ZM180-400h160v-160H180v160Zm440 0h160v-160H620v160ZM180-180h160v-160H180v160Zm440 0h160v-160H620v160Z\"/>\n",
              "  </svg>\n",
              "    </button>\n",
              "\n",
              "  <style>\n",
              "    .colab-df-container {\n",
              "      display:flex;\n",
              "      gap: 12px;\n",
              "    }\n",
              "\n",
              "    .colab-df-convert {\n",
              "      background-color: #E8F0FE;\n",
              "      border: none;\n",
              "      border-radius: 50%;\n",
              "      cursor: pointer;\n",
              "      display: none;\n",
              "      fill: #1967D2;\n",
              "      height: 32px;\n",
              "      padding: 0 0 0 0;\n",
              "      width: 32px;\n",
              "    }\n",
              "\n",
              "    .colab-df-convert:hover {\n",
              "      background-color: #E2EBFA;\n",
              "      box-shadow: 0px 1px 2px rgba(60, 64, 67, 0.3), 0px 1px 3px 1px rgba(60, 64, 67, 0.15);\n",
              "      fill: #174EA6;\n",
              "    }\n",
              "\n",
              "    .colab-df-buttons div {\n",
              "      margin-bottom: 4px;\n",
              "    }\n",
              "\n",
              "    [theme=dark] .colab-df-convert {\n",
              "      background-color: #3B4455;\n",
              "      fill: #D2E3FC;\n",
              "    }\n",
              "\n",
              "    [theme=dark] .colab-df-convert:hover {\n",
              "      background-color: #434B5C;\n",
              "      box-shadow: 0px 1px 3px 1px rgba(0, 0, 0, 0.15);\n",
              "      filter: drop-shadow(0px 1px 2px rgba(0, 0, 0, 0.3));\n",
              "      fill: #FFFFFF;\n",
              "    }\n",
              "  </style>\n",
              "\n",
              "    <script>\n",
              "      const buttonEl =\n",
              "        document.querySelector('#df-4bbaa81d-7c70-45e6-a1e3-a28dfd7cca96 button.colab-df-convert');\n",
              "      buttonEl.style.display =\n",
              "        google.colab.kernel.accessAllowed ? 'block' : 'none';\n",
              "\n",
              "      async function convertToInteractive(key) {\n",
              "        const element = document.querySelector('#df-4bbaa81d-7c70-45e6-a1e3-a28dfd7cca96');\n",
              "        const dataTable =\n",
              "          await google.colab.kernel.invokeFunction('convertToInteractive',\n",
              "                                                    [key], {});\n",
              "        if (!dataTable) return;\n",
              "\n",
              "        const docLinkHtml = 'Like what you see? Visit the ' +\n",
              "          '<a target=\"_blank\" href=https://colab.research.google.com/notebooks/data_table.ipynb>data table notebook</a>'\n",
              "          + ' to learn more about interactive tables.';\n",
              "        element.innerHTML = '';\n",
              "        dataTable['output_type'] = 'display_data';\n",
              "        await google.colab.output.renderOutput(dataTable, element);\n",
              "        const docLink = document.createElement('div');\n",
              "        docLink.innerHTML = docLinkHtml;\n",
              "        element.appendChild(docLink);\n",
              "      }\n",
              "    </script>\n",
              "  </div>\n",
              "\n",
              "\n",
              "    <div id=\"df-e2bec7dd-699d-44ce-8ba8-0926b4485e1d\">\n",
              "      <button class=\"colab-df-quickchart\" onclick=\"quickchart('df-e2bec7dd-699d-44ce-8ba8-0926b4485e1d')\"\n",
              "                title=\"Suggest charts\"\n",
              "                style=\"display:none;\">\n",
              "\n",
              "<svg xmlns=\"http://www.w3.org/2000/svg\" height=\"24px\"viewBox=\"0 0 24 24\"\n",
              "     width=\"24px\">\n",
              "    <g>\n",
              "        <path d=\"M19 3H5c-1.1 0-2 .9-2 2v14c0 1.1.9 2 2 2h14c1.1 0 2-.9 2-2V5c0-1.1-.9-2-2-2zM9 17H7v-7h2v7zm4 0h-2V7h2v10zm4 0h-2v-4h2v4z\"/>\n",
              "    </g>\n",
              "</svg>\n",
              "      </button>\n",
              "\n",
              "<style>\n",
              "  .colab-df-quickchart {\n",
              "      --bg-color: #E8F0FE;\n",
              "      --fill-color: #1967D2;\n",
              "      --hover-bg-color: #E2EBFA;\n",
              "      --hover-fill-color: #174EA6;\n",
              "      --disabled-fill-color: #AAA;\n",
              "      --disabled-bg-color: #DDD;\n",
              "  }\n",
              "\n",
              "  [theme=dark] .colab-df-quickchart {\n",
              "      --bg-color: #3B4455;\n",
              "      --fill-color: #D2E3FC;\n",
              "      --hover-bg-color: #434B5C;\n",
              "      --hover-fill-color: #FFFFFF;\n",
              "      --disabled-bg-color: #3B4455;\n",
              "      --disabled-fill-color: #666;\n",
              "  }\n",
              "\n",
              "  .colab-df-quickchart {\n",
              "    background-color: var(--bg-color);\n",
              "    border: none;\n",
              "    border-radius: 50%;\n",
              "    cursor: pointer;\n",
              "    display: none;\n",
              "    fill: var(--fill-color);\n",
              "    height: 32px;\n",
              "    padding: 0;\n",
              "    width: 32px;\n",
              "  }\n",
              "\n",
              "  .colab-df-quickchart:hover {\n",
              "    background-color: var(--hover-bg-color);\n",
              "    box-shadow: 0 1px 2px rgba(60, 64, 67, 0.3), 0 1px 3px 1px rgba(60, 64, 67, 0.15);\n",
              "    fill: var(--button-hover-fill-color);\n",
              "  }\n",
              "\n",
              "  .colab-df-quickchart-complete:disabled,\n",
              "  .colab-df-quickchart-complete:disabled:hover {\n",
              "    background-color: var(--disabled-bg-color);\n",
              "    fill: var(--disabled-fill-color);\n",
              "    box-shadow: none;\n",
              "  }\n",
              "\n",
              "  .colab-df-spinner {\n",
              "    border: 2px solid var(--fill-color);\n",
              "    border-color: transparent;\n",
              "    border-bottom-color: var(--fill-color);\n",
              "    animation:\n",
              "      spin 1s steps(1) infinite;\n",
              "  }\n",
              "\n",
              "  @keyframes spin {\n",
              "    0% {\n",
              "      border-color: transparent;\n",
              "      border-bottom-color: var(--fill-color);\n",
              "      border-left-color: var(--fill-color);\n",
              "    }\n",
              "    20% {\n",
              "      border-color: transparent;\n",
              "      border-left-color: var(--fill-color);\n",
              "      border-top-color: var(--fill-color);\n",
              "    }\n",
              "    30% {\n",
              "      border-color: transparent;\n",
              "      border-left-color: var(--fill-color);\n",
              "      border-top-color: var(--fill-color);\n",
              "      border-right-color: var(--fill-color);\n",
              "    }\n",
              "    40% {\n",
              "      border-color: transparent;\n",
              "      border-right-color: var(--fill-color);\n",
              "      border-top-color: var(--fill-color);\n",
              "    }\n",
              "    60% {\n",
              "      border-color: transparent;\n",
              "      border-right-color: var(--fill-color);\n",
              "    }\n",
              "    80% {\n",
              "      border-color: transparent;\n",
              "      border-right-color: var(--fill-color);\n",
              "      border-bottom-color: var(--fill-color);\n",
              "    }\n",
              "    90% {\n",
              "      border-color: transparent;\n",
              "      border-bottom-color: var(--fill-color);\n",
              "    }\n",
              "  }\n",
              "</style>\n",
              "\n",
              "      <script>\n",
              "        async function quickchart(key) {\n",
              "          const quickchartButtonEl =\n",
              "            document.querySelector('#' + key + ' button');\n",
              "          quickchartButtonEl.disabled = true;  // To prevent multiple clicks.\n",
              "          quickchartButtonEl.classList.add('colab-df-spinner');\n",
              "          try {\n",
              "            const charts = await google.colab.kernel.invokeFunction(\n",
              "                'suggestCharts', [key], {});\n",
              "          } catch (error) {\n",
              "            console.error('Error during call to suggestCharts:', error);\n",
              "          }\n",
              "          quickchartButtonEl.classList.remove('colab-df-spinner');\n",
              "          quickchartButtonEl.classList.add('colab-df-quickchart-complete');\n",
              "        }\n",
              "        (() => {\n",
              "          let quickchartButtonEl =\n",
              "            document.querySelector('#df-e2bec7dd-699d-44ce-8ba8-0926b4485e1d button');\n",
              "          quickchartButtonEl.style.display =\n",
              "            google.colab.kernel.accessAllowed ? 'block' : 'none';\n",
              "        })();\n",
              "      </script>\n",
              "    </div>\n",
              "\n",
              "    </div>\n",
              "  </div>\n"
            ],
            "application/vnd.google.colaboratory.intrinsic+json": {
              "type": "dataframe",
              "variable_name": "scale_train",
              "summary": "{\n  \"name\": \"scale_train\",\n  \"rows\": 80000,\n  \"fields\": [\n    {\n      \"column\": \"Age\",\n      \"properties\": {\n        \"dtype\": \"number\",\n        \"std\": 1.0000062500585651,\n        \"min\": -1.7091277043597786,\n        \"max\": 1.7042013026437006,\n        \"num_unique_values\": 68,\n        \"samples\": [\n          0.023009403671837673,\n          -0.8430591503439705,\n          -1.5562920771805184\n        ],\n        \"semantic_type\": \"\",\n        \"description\": \"\"\n      }\n    },\n    {\n      \"column\": \"Tenure\",\n      \"properties\": {\n        \"dtype\": \"number\",\n        \"std\": 1.000006250058586,\n        \"min\": -1.6502505297868455,\n        \"max\": 1.656993172885669,\n        \"num_unique_values\": 21,\n        \"samples\": [\n          -0.6580774189850911,\n          1.3262688026184177,\n          0.003371321549411795\n        ],\n        \"semantic_type\": \"\",\n        \"description\": \"\"\n      }\n    },\n    {\n      \"column\": \"Balance\",\n      \"properties\": {\n        \"dtype\": \"number\",\n        \"std\": 1.0000062500585993,\n        \"min\": -1.725424586067694,\n        \"max\": 1.7319725820859955,\n        \"num_unique_values\": 79967,\n        \"samples\": [\n          0.9004463854682649,\n          1.5884893213659654,\n          -0.7155638936916453\n        ],\n        \"semantic_type\": \"\",\n        \"description\": \"\"\n      }\n    },\n    {\n      \"column\": \"NumOfProducts\",\n      \"properties\": {\n        \"dtype\": \"number\",\n        \"std\": 1.000006250058502,\n        \"min\": -1.3455623264523766,\n        \"max\": 1.337446225582471,\n        \"num_unique_values\": 4,\n        \"samples\": [\n          -0.45122614244076076,\n          1.337446225582471,\n          -1.3455623264523766\n        ],\n        \"semantic_type\": \"\",\n        \"description\": \"\"\n      }\n    },\n    {\n      \"column\": \"HasCrCard\",\n      \"properties\": {\n        \"dtype\": \"number\",\n        \"std\": 1.0000062500583138,\n        \"min\": -1.0049371877636932,\n        \"max\": 0.9950870683025669,\n        \"num_unique_values\": 2,\n        \"samples\": [\n          -1.0049371877636932,\n          0.9950870683025669\n        ],\n        \"semantic_type\": \"\",\n        \"description\": \"\"\n      }\n    },\n    {\n      \"column\": \"IsActiveMember\",\n      \"properties\": {\n        \"dtype\": \"number\",\n        \"std\": 1.0000062500582934,\n        \"min\": -0.9943658714489307,\n        \"max\": 1.0056660518153742,\n        \"num_unique_values\": 2,\n        \"samples\": [\n          1.0056660518153742,\n          -0.9943658714489307\n        ],\n        \"semantic_type\": \"\",\n        \"description\": \"\"\n      }\n    },\n    {\n      \"column\": \"EstimatedSalary\",\n      \"properties\": {\n        \"dtype\": \"number\",\n        \"std\": 1.000006250058596,\n        \"min\": -1.7407089025642168,\n        \"max\": 1.7319382422172445,\n        \"num_unique_values\": 79981,\n        \"samples\": [\n          0.5618965181134563,\n          -0.6684587980720139\n        ],\n        \"semantic_type\": \"\",\n        \"description\": \"\"\n      }\n    },\n    {\n      \"column\": \"Monthly_Income\",\n      \"properties\": {\n        \"dtype\": \"number\",\n        \"std\": 1.0000062500585938,\n        \"min\": -1.7407089601585426,\n        \"max\": 1.7319382235579897,\n        \"num_unique_values\": 79752,\n        \"samples\": [\n          -0.2571572348127116,\n          1.571265402585478\n        ],\n        \"semantic_type\": \"\",\n        \"description\": \"\"\n      }\n    },\n    {\n      \"column\": \"CreditScore\",\n      \"properties\": {\n        \"dtype\": \"number\",\n        \"std\": 1.0000062500585576,\n        \"min\": -1.7208682712507215,\n        \"max\": 1.7278424264591652,\n        \"num_unique_values\": 601,\n        \"samples\": [\n          0.06671344039556981,\n          -0.9506562154288468\n        ],\n        \"semantic_type\": \"\",\n        \"description\": \"\"\n      }\n    },\n    {\n      \"column\": \"EMI_Amount\",\n      \"properties\": {\n        \"dtype\": \"number\",\n        \"std\": 1.0000062500586142,\n        \"min\": -1.226886284379158,\n        \"max\": 3.756663824821889,\n        \"num_unique_values\": 69588,\n        \"samples\": [\n          -0.942254127459764,\n          0.11746492444394813\n        ],\n        \"semantic_type\": \"\",\n        \"description\": \"\"\n      }\n    },\n    {\n      \"column\": \"Combined_Sentiment\",\n      \"properties\": {\n        \"dtype\": \"number\",\n        \"std\": 1.0000062500583167,\n        \"min\": -1.6200445902150804,\n        \"max\": 1.1675326970367699,\n        \"num_unique_values\": 12,\n        \"samples\": [\n          -1.3480303727757323,\n          0.9086225521049485\n        ],\n        \"semantic_type\": \"\",\n        \"description\": \"\"\n      }\n    }\n  ]\n}"
            }
          },
          "metadata": {},
          "execution_count": 18
        }
      ]
    },
    {
      "cell_type": "markdown",
      "source": [
        "Encoding Categorical Values"
      ],
      "metadata": {
        "id": "k5FI3At3U1Xb"
      }
    },
    {
      "cell_type": "code",
      "source": [
        "encoder=OneHotEncoder(sparse_output=False)\n",
        "encoder_array=encoder.fit_transform(X_train[list_of_categorical_columns])\n",
        "encoder_train_df=pd.DataFrame(encoder_array,columns=encoder.get_feature_names_out(list_of_categorical_columns),index=X_train.index)\n",
        "encoder_test_df=pd.DataFrame(encoder.transform(X_test[ list_of_categorical_columns]),index=X_test.index,columns=encoder.get_feature_names_out(list_of_categorical_columns))\n",
        "encoder_train_df.columns"
      ],
      "metadata": {
        "id": "AMEHaoj0T0Yv",
        "colab": {
          "base_uri": "https://localhost:8080/"
        },
        "outputId": "5fc07632-b336-43bf-975d-93b93c9a10b8"
      },
      "execution_count": null,
      "outputs": [
        {
          "output_type": "execute_result",
          "data": {
            "text/plain": [
              "Index(['Gender_Female', 'Gender_Male', 'Gender_Other', 'Geography_Delhi',\n",
              "       'Geography_Gujarat', 'Geography_Karnataka', 'Geography_Maharashtra',\n",
              "       'Geography_Rajasthan', 'Geography_Tamil Nadu', 'Geography_Telangana',\n",
              "       ...\n",
              "       'Branch_Code_BR091', 'Branch_Code_BR092', 'Branch_Code_BR093',\n",
              "       'Branch_Code_BR094', 'Branch_Code_BR095', 'Branch_Code_BR096',\n",
              "       'Branch_Code_BR097', 'Branch_Code_BR098', 'Branch_Code_BR099',\n",
              "       'Branch_Code_BR100'],\n",
              "      dtype='object', length=141)"
            ]
          },
          "metadata": {},
          "execution_count": 19
        }
      ]
    },
    {
      "cell_type": "code",
      "source": [
        "combined_df_train=pd.concat([scale_train,encoder_train_df],axis=1)\n",
        "combined_df_test=pd.concat([scale_test,encoder_test_df],axis=1)"
      ],
      "metadata": {
        "id": "VK98fY0-ffXS"
      },
      "execution_count": null,
      "outputs": []
    },
    {
      "cell_type": "code",
      "source": [
        "combined_df = pd.concat([combined_df_train, combined_df_test], axis=0, ignore_index=True)\n",
        "combined_df.to_csv('preprocessed_dataset.csv', index=False)\n"
      ],
      "metadata": {
        "id": "BLXi0uSfGC_n"
      },
      "execution_count": null,
      "outputs": []
    },
    {
      "cell_type": "markdown",
      "source": [
        "Training the model"
      ],
      "metadata": {
        "id": "9ug45RBbk8Kn"
      }
    },
    {
      "cell_type": "code",
      "source": [
        "lg=LogisticRegression(solver='liblinear',class_weight='balanced')\n",
        "lg.fit(combined_df_train,y_train)\n",
        "prediction_train=lg.predict(combined_df_train)\n",
        "prediction_test=lg.predict(combined_df_test)"
      ],
      "metadata": {
        "id": "rUnpAaNehMx7"
      },
      "execution_count": null,
      "outputs": []
    },
    {
      "cell_type": "code",
      "source": [
        "accuracy_test=accuracy_score(y_test,prediction_test)\n",
        "accuracy_train=accuracy_score(y_train,prediction_train)\n",
        "print(f\"Accuracy of test data: {accuracy_test:.3f}\")\n",
        "print(f\"Accuracy of train data: {accuracy_train:.3f}\")\n",
        "print(lg.coef_.tolist())"
      ],
      "metadata": {
        "colab": {
          "base_uri": "https://localhost:8080/"
        },
        "id": "VMnTeUeLgrHn",
        "outputId": "fad73fa9-2f78-4cd0-aaad-464f71a7ad29"
      },
      "execution_count": null,
      "outputs": [
        {
          "output_type": "stream",
          "name": "stdout",
          "text": [
            "Accuracy of test data: 0.881\n",
            "Accuracy of train data: 0.878\n",
            "[[0.4003284952665919, 0.23800443326754944, -0.0018483043297048364, 0.013130428408918765, -0.0028132593132544695, -1.8320170393290787, -0.21937264023144268, -0.21937243344084764, -0.015949170984590602, 0.7449694696606509, -1.6280299209856182, -0.18660640418752192, -0.20664052239283817, -0.20098103372738427, -0.10602125599106821, -0.06787121988298372, -0.0189051568324804, -0.06466635679370875, -0.09216988355597092, -0.04595402527186466, -0.08482443429439525, -0.033834485538060954, -0.0799811421471154, -0.09260857101710061, -0.06566751866130464, -0.023987559767434306, -0.08630845055259367, -0.03154955586527046, -0.01768202228820456, -0.047708303345099665, -0.05632211436808693, -0.1254959317728257, -0.04689793266969325, -0.11035467678507403, -0.18356189860765987, -0.15026589852230945, -0.15004548639314919, -0.08751647781235257, -0.11634037627853587, -0.10332760432215543, -0.054771983977639375, -0.039043072816139626, -0.06811457565988908, -0.05403837580069314, -0.07107549364032989, -0.6243989199716791, 0.41460908064006136, -0.8395059606689098, -0.42317135055701177, 0.4120131399642582, 1.1994722130818745, -0.7332461627964344, 0.018271599279033292, -0.01730215923531745, 0.01304235797174709, -0.26511153937571286, -0.06325364904845299, -0.0037028077645200994, -0.19882743013435936, -0.1442728624718759, 0.0948894378502666, 0.1736338995180883, 0.037459291446726405, 0.06993459692714263, 0.13580550783334067, 0.07347380689660553, 0.1198446645612805, -0.0027431786864463054, 0.17013215053923011, -0.1607036583233221, -0.19241739089400656, 0.12440345766464228, 0.011342756992063538, -0.017767970589663545, 0.00941388595853682, -0.20645587332492293, 0.25928432152433006, 0.0318055537778963, -0.0965741214045779, -0.030396599166236302, -0.09756296453833627, -0.07864249697767044, -0.2524008880000899, -0.10802856655893858, 0.044642317690925665, 0.003596338530721858, -0.06303184349682109, 0.10522071492975905, 0.09618777934767678, -0.022779997275674868, -0.21905175414364733, 0.003717951615044858, -0.3202154615766352, 0.20950784483367973, -0.005206961613928462, -0.22990500031153244, -0.0805744882254619, 0.22530825490561127, 0.1921289686726813, 0.16498787387872169, 0.22269106941991468, -0.019493005616199915, 0.037623822504524645, -0.3302850504243058, 0.22868857988858057, 0.04599596423580494, -0.10520660493033923, -0.07202321115710918, -0.09715076056488091, -0.04074697005536115, -0.022093868702048856, 0.22047061502284, 0.06273529080846417, 0.17513256477827321, -0.030414718352864675, -0.0957372729015073, -0.18884456561804855, 0.06360008652967004, 0.1520487301434299, 0.12598006725962277, 0.07310026432244651, -0.0993158856497901, -0.11941870679796003, 0.08518690373030204, 0.046614762097437264, 0.1801763404056211, -0.10347560420166889, 0.3289477844642419, 0.20018328165313312, -0.017400674081541865, -0.0290449746415198, 0.022579341091894876, -0.14620082393153047, -0.05811786665805026, 0.021485736052438406, -0.13025030170662946, -0.1690262820454533, 0.10873808177151141, -0.10044167863696057, 0.017564335060745166, 0.11536094739363068, -0.1965010535445198, -0.02447679934646064, -0.1396175023205963, -0.10117969234239227, 0.0515845547141159, -0.1561128013875431, -0.11818738158071895, -0.1944109559388135, 0.06444727149563714, 0.044274093065933176, 0.10463089490894259]]\n"
          ]
        }
      ]
    },
    {
      "cell_type": "code",
      "source": [
        "print(classification_report(y_test,prediction_test))"
      ],
      "metadata": {
        "colab": {
          "base_uri": "https://localhost:8080/"
        },
        "id": "JiYAIYIeSAZi",
        "outputId": "deeef725-731f-42e4-f9cf-dc0589e44e69"
      },
      "execution_count": null,
      "outputs": [
        {
          "output_type": "stream",
          "name": "stdout",
          "text": [
            "              precision    recall  f1-score   support\n",
            "\n",
            "           0       0.95      0.88      0.91     14106\n",
            "           1       0.75      0.89      0.81      5894\n",
            "\n",
            "    accuracy                           0.88     20000\n",
            "   macro avg       0.85      0.88      0.86     20000\n",
            "weighted avg       0.89      0.88      0.88     20000\n",
            "\n"
          ]
        }
      ]
    },
    {
      "cell_type": "code",
      "source": [
        "confusion=confusion_matrix(y_test,prediction_test,normalize='true')\n",
        "sns.heatmap(confusion,annot=True)"
      ],
      "metadata": {
        "colab": {
          "base_uri": "https://localhost:8080/",
          "height": 448
        },
        "id": "CeXzY2-KRPTp",
        "outputId": "d307ba55-7717-4957-995a-eec1aa4f77e6"
      },
      "execution_count": null,
      "outputs": [
        {
          "output_type": "execute_result",
          "data": {
            "text/plain": [
              "<Axes: >"
            ]
          },
          "metadata": {},
          "execution_count": 27
        },
        {
          "output_type": "display_data",
          "data": {
            "text/plain": [
              "<Figure size 640x480 with 2 Axes>"
            ],
            "image/png": "[encoded data removed]"
          },
          "metadata": {}
        }
      ]
    },
    {
      "cell_type": "markdown",
      "source": [
        "ROC Curve"
      ],
      "metadata": {
        "id": "IDnoJlRUeC_Y"
      }
    },
    {
      "cell_type": "code",
      "source": [
        "y_proba = lg.predict_proba(combined_df_test)[:, 1]  # Probability of class 1\n",
        "fpr, tpr, thresholds = roc_curve(y_test, y_proba)\n"
      ],
      "metadata": {
        "id": "j6T6S-BmddfD"
      },
      "execution_count": null,
      "outputs": []
    },
    {
      "cell_type": "code",
      "source": [
        "plt.figure(figsize=(8, 6))\n",
        "plt.plot(fpr, tpr, color='blue', label='ROC Curve')\n",
        "plt.plot([0, 1], [0, 1], color='gray', linestyle='--', label='Random Guess')\n",
        "plt.xlabel('False Positive Rate')\n",
        "plt.ylabel('True Positive Rate (Recall)')\n",
        "plt.title('Receiver Operating Characteristic (ROC) Curve')\n",
        "plt.legend()\n",
        "plt.grid(True)\n",
        "plt.show()\n",
        "roc_auc = roc_auc_score(y_test, y_proba)\n",
        "print(f\"ROC-AUC Score: {roc_auc:.4f}\")\n"
      ],
      "metadata": {
        "colab": {
          "base_uri": "https://localhost:8080/",
          "height": 582
        },
        "id": "4mTSy_L4dqjN",
        "outputId": "2ee5deed-2fa3-4466-b8cc-be846b356e28"
      },
      "execution_count": null,
      "outputs": [
        {
          "output_type": "display_data",
          "data": {
            "text/plain": [
              "<Figure size 800x600 with 1 Axes>"
            ],
            "image/png": "[encoded data removed]"
          },
          "metadata": {}
        },
        {
          "output_type": "stream",
          "name": "stdout",
          "text": [
            "ROC-AUC Score: 0.9497\n"
          ]
        }
      ]
    }
  ]
}